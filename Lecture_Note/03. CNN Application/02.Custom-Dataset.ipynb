{
 "cells": [
  {
   "cell_type": "markdown",
   "metadata": {},
   "source": [
    "# 02. Custom Dataset 만들어보기\n",
    "- Dataset Generation!\n",
    "- 폴더별로 사진들이 모여있다면, 그 dataset을 우리가 원하는 형태로 바꿔봅시다!"
   ]
  },
  {
   "cell_type": "code",
   "execution_count": 1,
   "metadata": {
    "ExecuteTime": {
     "end_time": "2017-11-10T02:27:56.691070Z",
     "start_time": "2017-11-10T02:27:55.662610Z"
    }
   },
   "outputs": [
    {
     "name": "stdout",
     "output_type": "stream",
     "text": [
      "Package loaded\n",
      "Current folder is /Users/kyle/Dropbox/workspace/Deep_Learning_starting_with_the_latest_papers/Lecture_Note/03. CNN Application\n"
     ]
    }
   ],
   "source": [
    "import numpy as np\n",
    "import os\n",
    "from scipy.misc import imread, imresize\n",
    "import matplotlib.pyplot as plt\n",
    "%matplotlib inline  \n",
    "print (\"Package loaded\") \n",
    "cwd = os.getcwd()\n",
    "print (\"Current folder is %s\" % (cwd) )"
   ]
  },
  {
   "cell_type": "code",
   "execution_count": 3,
   "metadata": {
    "ExecuteTime": {
     "end_time": "2017-11-10T02:30:51.231483Z",
     "start_time": "2017-11-10T02:30:51.218259Z"
    }
   },
   "outputs": [
    {
     "name": "stdout",
     "output_type": "stream",
     "text": [
      "Your images should be at\n",
      " [0/4] /Users/kyle/Dropbox/workspace/Deep_Learning_starting_with_the_latest_papers/Lecture_Note/03. CNN Application/../../img_dataset/celebs/Arnold_Schwarzenegger\n",
      " [1/4] /Users/kyle/Dropbox/workspace/Deep_Learning_starting_with_the_latest_papers/Lecture_Note/03. CNN Application/../../img_dataset/celebs/Junichiro_Koizumi\n",
      " [2/4] /Users/kyle/Dropbox/workspace/Deep_Learning_starting_with_the_latest_papers/Lecture_Note/03. CNN Application/../../img_dataset/celebs/George_W_Bush\n",
      " [3/4] /Users/kyle/Dropbox/workspace/Deep_Learning_starting_with_the_latest_papers/Lecture_Note/03. CNN Application/../../img_dataset/celebs/Vladimir_Putin\n",
      "Data will be saved to /Users/kyle/Dropbox/workspace/Deep_Learning_starting_with_the_latest_papers/Lecture_Note/03. CNN Application/data/custom_data.npz\n"
     ]
    }
   ],
   "source": [
    "# 학습할 폴더 경로 설정\n",
    "paths = {\"../../img_dataset/celebs/Arnold_Schwarzenegger\"\n",
    "        , \"../../img_dataset/celebs/Junichiro_Koizumi\"\n",
    "        , \"../../img_dataset/celebs/Vladimir_Putin\"\n",
    "        , \"../../img_dataset/celebs/George_W_Bush\"}\n",
    "categories = [\"Arnold\",\"Koizumi\",\"Putin\",\"Bush\"]\n",
    "# The reshape size\n",
    "imgsize = [64, 64]\n",
    "# Grayscale\n",
    "use_gray = 1\n",
    "# Save name\n",
    "data_name = \"custom_data\"\n",
    "\n",
    "print (\"Your images should be at\")\n",
    "for i, path in enumerate(paths):\n",
    "    print (\" [%d/%d] %s/%s\" % (i, len(paths), cwd, path)) \n",
    "\n",
    "print (\"Data will be saved to %s\" \n",
    "       % (cwd + '/data/' + data_name + '.npz'))"
   ]
  },
  {
   "cell_type": "markdown",
   "metadata": {},
   "source": [
    "# RGB 2 GRAY"
   ]
  },
  {
   "cell_type": "code",
   "execution_count": 4,
   "metadata": {
    "ExecuteTime": {
     "end_time": "2017-11-10T02:32:53.749236Z",
     "start_time": "2017-11-10T02:32:53.743892Z"
    },
    "collapsed": true
   },
   "outputs": [],
   "source": [
    "def rgb2gray(rgb):\n",
    "    if len(rgb.shape) is 3:\n",
    "        return np.dot(rgb[...,:3], [0.299, 0.587, 0.114])\n",
    "    else:\n",
    "        # print (\"Current Image if GRAY!\")\n",
    "        return rgb"
   ]
  },
  {
   "cell_type": "markdown",
   "metadata": {},
   "source": [
    "# LOAD Image"
   ]
  },
  {
   "cell_type": "code",
   "execution_count": null,
   "metadata": {
    "collapsed": true
   },
   "outputs": [],
   "source": [
    "nclass     = len(paths)\n",
    "valid_exts = [\".jpg\",\".gif\",\".png\",\".tga\", \".jpeg\"]\n",
    "imgcnt     = 0\n",
    "for i, relpath in zip(range(nclass), paths):\n",
    "    path = cwd + \"/\" + relpath\n",
    "    flist = os.listdir(path)\n",
    "    for f in flist:\n",
    "        if os.path.splitext(f)[1].lower() not in valid_exts:\n",
    "            continue\n",
    "        fullpath = os.path.join(path, f)\n",
    "        currimg  = imread(fullpath)\n",
    "        # Convert to grayscale  \n",
    "        if use_gray:\n",
    "            grayimg  = rgb2gray(currimg)\n",
    "        else:\n",
    "            grayimg  = currimg\n",
    "        # Reshape\n",
    "        graysmall = imresize(grayimg, [imgsize[0], imgsize[1]])/255.\n",
    "        grayvec   = np.reshape(graysmall, (1, -1))\n",
    "        # Save \n",
    "        curr_label = np.eye(nclass, nclass)[i:i+1, :]\n",
    "        # np.eye : 단위행렬을 구함 -> One Hot Vector를 만듬\n",
    "        if imgcnt is 0:\n",
    "            totalimg   = grayvec\n",
    "            totallabel = curr_label\n",
    "        else:\n",
    "            totalimg   = np.concatenate((totalimg, grayvec), axis=0)\n",
    "            totallabel = np.concatenate((totallabel, curr_label), axis=0)\n",
    "        imgcnt    = imgcnt + 1\n",
    "print (\"Total %d images loaded.\" % (imgcnt))"
   ]
  },
  {
   "cell_type": "code",
   "execution_count": null,
   "metadata": {
    "collapsed": true
   },
   "outputs": [],
   "source": [
    "def print_shape(string, x):\n",
    "    print (\"Shape of '%s' is %s\" % (string, x.shape,))\n",
    "    \n",
    "randidx    = np.random.randint(imgcnt, size=imgcnt)\n",
    "trainidx   = randidx[0:int(3*imgcnt/5)]\n",
    "testidx    = randidx[int(3*imgcnt/5):imgcnt]\n",
    "trainimg   = totalimg[trainidx, :]\n",
    "trainlabel = totallabel[trainidx, :]\n",
    "testimg    = totalimg[testidx, :]\n",
    "testlabel  = totallabel[testidx, :]\n",
    "print_shape(\"trainimg\", trainimg)\n",
    "print_shape(\"trainlabel\", trainlabel)\n",
    "print_shape(\"testimg\", testimg)\n",
    "print_shape(\"testlabel\", testlabel)"
   ]
  },
  {
   "cell_type": "markdown",
   "metadata": {},
   "source": [
    "# Save"
   ]
  },
  {
   "cell_type": "code",
   "execution_count": null,
   "metadata": {
    "collapsed": true
   },
   "outputs": [],
   "source": [
    "savepath = cwd + \"/data/\" + data_name + \".npz\"\n",
    "np.savez(savepath, trainimg=trainimg, trainlabel=trainlabel\n",
    "         , testimg=testimg, testlabel=testlabel, imgsize=imgsize, use_gray=use_gray)\n",
    "print (\"Saved to %s\" % (savepath))"
   ]
  },
  {
   "cell_type": "markdown",
   "metadata": {},
   "source": [
    "# Load to Check"
   ]
  },
  {
   "cell_type": "code",
   "execution_count": null,
   "metadata": {
    "collapsed": true
   },
   "outputs": [],
   "source": [
    "# Load them!\n",
    "cwd = os.getcwd()\n",
    "loadpath = cwd + \"/data/\" + data_name + \".npz\"\n",
    "l = np.load(loadpath)\n",
    "\n",
    "# See what's in here\n",
    "l.files\n",
    "\n",
    "# Parse data\n",
    "trainimg_loaded = l['trainimg']\n",
    "trainlabel_loaded = l['trainlabel']\n",
    "testimg_loaded = l['testimg']\n",
    "testlabel_loaded = l['testlabel']\n",
    "\n",
    "print (\"%d train images loaded\" % (trainimg_loaded.shape[0]))\n",
    "print (\"%d test images loaded\" % (testimg_loaded.shape[0]))\n",
    "print (\"Loaded from to %s\" % (savepath))"
   ]
  },
  {
   "cell_type": "markdown",
   "metadata": {},
   "source": [
    "# Plot randomly train images"
   ]
  },
  {
   "cell_type": "code",
   "execution_count": null,
   "metadata": {
    "collapsed": true
   },
   "outputs": [],
   "source": [
    "# Load them!\n",
    "cwd = os.getcwd()\n",
    "loadpath = cwd + \"/data/\" + data_name + \".npz\"\n",
    "l = np.load(loadpath)\n",
    "\n",
    "# See what's in here\n",
    "l.files\n",
    "\n",
    "# Parse data\n",
    "trainimg_loaded = l['trainimg']\n",
    "trainlabel_loaded = l['trainlabel']\n",
    "testimg_loaded = l['testimg']\n",
    "testlabel_loaded = l['testlabel']\n",
    "\n",
    "print (\"%d train images loaded\" % (trainimg_loaded.shape[0]))\n",
    "print (\"%d test images loaded\" % (testimg_loaded.shape[0]))\n",
    "print (\"Loaded from to %s\" % (savepath))"
   ]
  },
  {
   "cell_type": "markdown",
   "metadata": {},
   "source": [
    "# Plot randomly test images"
   ]
  },
  {
   "cell_type": "code",
   "execution_count": null,
   "metadata": {
    "collapsed": true
   },
   "outputs": [],
   "source": [
    "# Do batch stuff using loaded data \n",
    "ntest_loaded = testimg_loaded.shape[0]\n",
    "batch_size   = 3;\n",
    "randidx      = np.random.randint(ntest_loaded, size=batch_size)\n",
    "for i in randidx: \n",
    "    currimg = np.reshape(testimg_loaded[i, :], (imgsize[0], -1))\n",
    "    currlabel_onehot = testlabel_loaded[i, :]\n",
    "    currlabel = np.argmax(currlabel_onehot) \n",
    "    \n",
    "    if use_gray:\n",
    "        currimg = np.reshape(testimg[i, :], (imgsize[0], -1))\n",
    "        plt.matshow(currimg, cmap=plt.get_cmap('gray'))\n",
    "        plt.colorbar()\n",
    "    else:\n",
    "        currimg = np.reshape(testimg[i, :], (imgsize[0], imgsize[1], 3))\n",
    "        plt.imshow(currimg)\n",
    "    title_string = \"[%d] %d-class\" % (i, currlabel)\n",
    "    plt.title(title_string) \n",
    "    plt.show()"
   ]
  },
  {
   "cell_type": "code",
   "execution_count": null,
   "metadata": {
    "collapsed": true
   },
   "outputs": [],
   "source": []
  }
 ],
 "metadata": {
  "kernelspec": {
   "display_name": "Python 3",
   "language": "python",
   "name": "python3"
  },
  "language_info": {
   "codemirror_mode": {
    "name": "ipython",
    "version": 3
   },
   "file_extension": ".py",
   "mimetype": "text/x-python",
   "name": "python",
   "nbconvert_exporter": "python",
   "pygments_lexer": "ipython3",
   "version": "3.6.3"
  },
  "latex_envs": {
   "LaTeX_envs_menu_present": true,
   "autocomplete": true,
   "bibliofile": "biblio.bib",
   "cite_by": "apalike",
   "current_citInitial": 1,
   "eqLabelWithNumbers": true,
   "eqNumInitial": 1,
   "hotkeys": {
    "equation": "Ctrl-E",
    "itemize": "Ctrl-I"
   },
   "labels_anchors": false,
   "latex_user_defs": false,
   "report_style_numbering": false,
   "user_envs_cfg": false
  },
  "varInspector": {
   "cols": {
    "lenName": 16,
    "lenType": 16,
    "lenVar": 40
   },
   "kernels_config": {
    "python": {
     "delete_cmd_postfix": "",
     "delete_cmd_prefix": "del ",
     "library": "var_list.py",
     "varRefreshCmd": "print(var_dic_list())"
    },
    "r": {
     "delete_cmd_postfix": ") ",
     "delete_cmd_prefix": "rm(",
     "library": "var_list.r",
     "varRefreshCmd": "cat(var_dic_list()) "
    }
   },
   "types_to_exclude": [
    "module",
    "function",
    "builtin_function_or_method",
    "instance",
    "_Feature"
   ],
   "window_display": false
  }
 },
 "nbformat": 4,
 "nbformat_minor": 2
}
