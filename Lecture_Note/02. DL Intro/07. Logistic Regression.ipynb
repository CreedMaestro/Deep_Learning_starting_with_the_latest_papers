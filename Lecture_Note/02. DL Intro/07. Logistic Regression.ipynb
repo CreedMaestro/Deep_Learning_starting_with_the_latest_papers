{
 "cells": [
  {
   "cell_type": "markdown",
   "metadata": {},
   "source": [
    "# 07. Logistic Regression"
   ]
  },
  {
   "cell_type": "markdown",
   "metadata": {
    "collapsed": true
   },
   "source": [
    "- 분류 문제를 불 수 있는 가장 간단한 방법론\n",
    "- 분류 문제를 다루는 수업에서 가장 처음으로 나오는 내용\n",
    "- Cross Entropy Loss function이 무엇인지 알면 더 좋음\n",
    "- Cost function이 줄어든다고 해서 좋은 것은 아니다!\n",
    "- 풀고자하는 문제에 따라서 적절하게 cost function을 디자인하고 이용해 최적화!!!!\n",
    "- 일반적으로 많이 사용하는 Cross Entropy!\n",
    "\n",
    "## CE (Cross Entropy)\n",
    "- Information Theory에서 나옴\n",
    "- 어떠한 probability distribution이 2개 있을 때(p, q) 이 확률 분포 사이의 거리에 해당하는 의미를 가짐\n",
    "\n",
    "### CE in neural network\n",
    "<img src='../images/logistic001.png' height=300>\n",
    "- 정답에 해당하는 확률 분포\n",
    "- 뉴럴넷이 뱉어내는 확률 분포\n",
    "- 현재 분류하고 있는 물건은 5개! 5개의 확률 분포는 모두 0보다 크고 합치면 1\n",
    "- 뉴럴넷의 아웃풋의 합은 1이되기 어려워서 각각의 값에 exponential을 취해줌\n",
    "- 각각의 값들이 모두 0보다 커지고, 더한 것으로 나눠주면 다 더할 경우 1이 됨 (softmax)\n",
    "- 정답과 비교해서 거리를 줄임!!! \n",
    "- 클래스에 해당하는 확률은 1 나머지는 0인 one hot 코딩되어 있는 target value와 뉴럴넷의 결과로 나온 것을 softmax해서 확률로 바꾸고! 그 확률 사이의 거리를 CE로 정의하고 그것을 줄이는 방향으로 뉴럴넷을 학습시킨다!\n",
    "- 클래스가 100개고 3번째 클래스에 속하면, 3번째 클래스만 신경쓰고 나머지 99개는 신경쓰지 않겠다!!! \n",
    "- 정답에 해당하는 index에 해당하는 숫자만 높이고 나머지는 신경쓰지 않겠다\n",
    "\n"
   ]
  },
  {
   "cell_type": "markdown",
   "metadata": {},
   "source": [
    "<img src='../images/logistic002.png' height=300>\n",
    "\n",
    "- computed : softmax를 취해서 나온 값(확률 분포)\n",
    "- squared loss : 뉴럴넷의 결과와 내 결과를 빼서 제곱. 정답이 아닌 인덱스는 낮추고, 정답인 인덱스를 높이려고 함\n",
    "- 반면 cross entropy는 정답인 인덱스만 초점을 맞춤\n",
    "- cross entropy가 squared loss보다 분류에선 더 잘됨\n"
   ]
  },
  {
   "cell_type": "code",
   "execution_count": 2,
   "metadata": {
    "ExecuteTime": {
     "end_time": "2017-11-05T14:13:57.109416Z",
     "start_time": "2017-11-05T14:13:57.104236Z"
    }
   },
   "outputs": [
    {
     "name": "stdout",
     "output_type": "stream",
     "text": [
      "PACKAGES LOADED\n",
      "TF VERSION IS 1.3.0\n"
     ]
    }
   ],
   "source": [
    "import numpy as np\n",
    "import tensorflow as tf\n",
    "import matplotlib.pyplot as plt\n",
    "from tensorflow.examples.tutorials.mnist import input_data\n",
    "print (\"PACKAGES LOADED\")\n",
    "print (\"TF VERSION IS {version}\".format(version=tf.__version__))"
   ]
  },
  {
   "cell_type": "code",
   "execution_count": 3,
   "metadata": {
    "ExecuteTime": {
     "end_time": "2017-11-05T14:14:18.849395Z",
     "start_time": "2017-11-05T14:14:18.289419Z"
    }
   },
   "outputs": [
    {
     "name": "stdout",
     "output_type": "stream",
     "text": [
      "Extracting data/train-images-idx3-ubyte.gz\n",
      "Extracting data/train-labels-idx1-ubyte.gz\n",
      "Extracting data/t10k-images-idx3-ubyte.gz\n",
      "Extracting data/t10k-labels-idx1-ubyte.gz\n",
      "MNIST loaded\n"
     ]
    }
   ],
   "source": [
    "mnist      = input_data.read_data_sets('data/', one_hot=True)\n",
    "trainimg   = mnist.train.images\n",
    "trainlabel = mnist.train.labels\n",
    "testimg    = mnist.test.images\n",
    "testlabel  = mnist.test.labels\n",
    "print (\"MNIST loaded\")"
   ]
  },
  {
   "cell_type": "code",
   "execution_count": 11,
   "metadata": {
    "ExecuteTime": {
     "end_time": "2017-11-05T14:22:38.731651Z",
     "start_time": "2017-11-05T14:22:38.715467Z"
    },
    "collapsed": true
   },
   "outputs": [],
   "source": [
    "x = tf.placeholder(\"float\", [None, 784])\n",
    "y = tf.placeholder(\"float\", [None, 10])\n",
    "W = tf.Variable(tf.zeros([784, 10]))\n",
    "b = tf.Variable(tf.zeros([10]))"
   ]
  },
  {
   "cell_type": "code",
   "execution_count": 13,
   "metadata": {
    "ExecuteTime": {
     "end_time": "2017-11-05T14:23:33.510855Z",
     "start_time": "2017-11-05T14:23:33.496131Z"
    }
   },
   "outputs": [],
   "source": [
    "actv = tf.nn.softmax(tf.matmul(x, W) + b)\n",
    "cost = tf.reduce_mean(-tf.reduce_sum(y*tf.log(actv), reduction_indices=1)) "
   ]
  },
  {
   "cell_type": "code",
   "execution_count": 14,
   "metadata": {
    "ExecuteTime": {
     "end_time": "2017-11-05T14:24:11.855115Z",
     "start_time": "2017-11-05T14:24:11.762724Z"
    },
    "collapsed": true
   },
   "outputs": [],
   "source": [
    "learning_rate = 0.01\n",
    "optm = tf.train.GradientDescentOptimizer(learning_rate).minimize(cost)"
   ]
  },
  {
   "cell_type": "markdown",
   "metadata": {},
   "source": [
    "- pred = tf.equal() 뉴럴넷이 뱉은 라벨과 같으면 1, 아니면 0\n",
    "- 평균을 내주면 accuracy가 나옴"
   ]
  },
  {
   "cell_type": "code",
   "execution_count": 17,
   "metadata": {
    "ExecuteTime": {
     "end_time": "2017-11-05T14:28:40.378351Z",
     "start_time": "2017-11-05T14:28:40.345230Z"
    }
   },
   "outputs": [
    {
     "name": "stdout",
     "output_type": "stream",
     "text": [
      "WARNING:tensorflow:From /usr/local/lib/python3.6/site-packages/tensorflow/python/util/tf_should_use.py:175: initialize_all_variables (from tensorflow.python.ops.variables) is deprecated and will be removed after 2017-03-02.\n",
      "Instructions for updating:\n",
      "Use `tf.global_variables_initializer` instead.\n"
     ]
    }
   ],
   "source": [
    "pred = tf.equal(tf.argmax(actv, 1), tf.argmax(y, 1))\n",
    "accr = tf.reduce_mean(tf.cast(pred,\"float\"))\n",
    "init = tf.initialize_all_variables()"
   ]
  },
  {
   "cell_type": "code",
   "execution_count": 18,
   "metadata": {
    "ExecuteTime": {
     "end_time": "2017-11-05T14:31:19.655993Z",
     "start_time": "2017-11-05T14:30:44.895993Z"
    }
   },
   "outputs": [
    {
     "name": "stdout",
     "output_type": "stream",
     "text": [
      "Epoch: 000/050 cost: 1.176892365 train_acc: 0.800 test_acc: 0.852\n",
      "Epoch: 005/050 cost: 0.441032667 train_acc: 0.880 test_acc: 0.895\n",
      "Epoch: 010/050 cost: 0.383345203 train_acc: 0.910 test_acc: 0.904\n",
      "Epoch: 015/050 cost: 0.357281481 train_acc: 0.890 test_acc: 0.909\n",
      "Epoch: 020/050 cost: 0.341470933 train_acc: 0.910 test_acc: 0.912\n",
      "Epoch: 025/050 cost: 0.330546705 train_acc: 0.890 test_acc: 0.914\n",
      "Epoch: 030/050 cost: 0.322359660 train_acc: 0.940 test_acc: 0.915\n",
      "Epoch: 035/050 cost: 0.315943988 train_acc: 0.960 test_acc: 0.917\n",
      "Epoch: 040/050 cost: 0.310740261 train_acc: 0.920 test_acc: 0.918\n",
      "Epoch: 045/050 cost: 0.306383077 train_acc: 0.970 test_acc: 0.919\n",
      "DONE\n"
     ]
    }
   ],
   "source": [
    "training_epochs = 50\n",
    "batch_size      = 100\n",
    "display_step    = 5\n",
    "# SESSION 열고\n",
    "sess = tf.Session()\n",
    "sess.run(init)\n",
    "# 미니배치로 학습\n",
    "for epoch in range(training_epochs):\n",
    "    avg_cost = 0.\n",
    "    num_batch = int(mnist.train.num_examples/batch_size) \n",
    "    # 55000/100 = 550 iteration\n",
    "    for i in range(num_batch): \n",
    "        batch_xs, batch_ys = mnist.train.next_batch(batch_size)\n",
    "        sess.run(optm, feed_dict={x: batch_xs, y: batch_ys})\n",
    "        \n",
    "        feeds = {x: batch_xs, y: batch_ys}\n",
    "        avg_cost += sess.run(cost, feed_dict=feeds)/num_batch # 성능\n",
    "        \n",
    "    # DISPLAY\n",
    "    if epoch % display_step == 0:\n",
    "        feeds_train = {x: batch_xs, y: batch_ys}\n",
    "        feeds_test = {x: mnist.test.images, y: mnist.test.labels}\n",
    "        train_acc = sess.run(accr, feed_dict=feeds_train)\n",
    "        test_acc = sess.run(accr, feed_dict=feeds_test)\n",
    "        print (\"Epoch: %03d/%03d cost: %.9f train_acc: %.3f test_acc: %.3f\" \n",
    "               % (epoch, training_epochs, avg_cost, train_acc, test_acc))\n",
    "print (\"DONE\")"
   ]
  },
  {
   "cell_type": "code",
   "execution_count": null,
   "metadata": {
    "collapsed": true
   },
   "outputs": [],
   "source": []
  }
 ],
 "metadata": {
  "kernelspec": {
   "display_name": "Python 3",
   "language": "python",
   "name": "python3"
  },
  "language_info": {
   "codemirror_mode": {
    "name": "ipython",
    "version": 3
   },
   "file_extension": ".py",
   "mimetype": "text/x-python",
   "name": "python",
   "nbconvert_exporter": "python",
   "pygments_lexer": "ipython3",
   "version": "3.6.3"
  },
  "latex_envs": {
   "LaTeX_envs_menu_present": true,
   "autocomplete": true,
   "bibliofile": "biblio.bib",
   "cite_by": "apalike",
   "current_citInitial": 1,
   "eqLabelWithNumbers": true,
   "eqNumInitial": 1,
   "hotkeys": {
    "equation": "Ctrl-E",
    "itemize": "Ctrl-I"
   },
   "labels_anchors": false,
   "latex_user_defs": false,
   "report_style_numbering": false,
   "user_envs_cfg": false
  },
  "varInspector": {
   "cols": {
    "lenName": 16,
    "lenType": 16,
    "lenVar": 40
   },
   "kernels_config": {
    "python": {
     "delete_cmd_postfix": "",
     "delete_cmd_prefix": "del ",
     "library": "var_list.py",
     "varRefreshCmd": "print(var_dic_list())"
    },
    "r": {
     "delete_cmd_postfix": ") ",
     "delete_cmd_prefix": "rm(",
     "library": "var_list.r",
     "varRefreshCmd": "cat(var_dic_list()) "
    }
   },
   "types_to_exclude": [
    "module",
    "function",
    "builtin_function_or_method",
    "instance",
    "_Feature"
   ],
   "window_display": false
  }
 },
 "nbformat": 4,
 "nbformat_minor": 2
}
